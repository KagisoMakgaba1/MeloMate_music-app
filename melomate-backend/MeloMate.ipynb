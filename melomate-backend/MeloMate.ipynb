{
 "cells": [
  {
   "cell_type": "code",
   "execution_count": 3,
   "id": "b3982af7-e172-4861-8993-ce208aba3bf9",
   "metadata": {},
   "outputs": [],
   "source": [
    "import pandas as pd"
   ]
  },
  {
   "cell_type": "code",
   "execution_count": 4,
   "id": "36d30cfc-ad72-4cd9-9527-b89c08d10fe8",
   "metadata": {},
   "outputs": [],
   "source": [
    "df = pd.read_csv(\"spotify_millsongdata.csv\")"
   ]
  },
  {
   "cell_type": "code",
   "execution_count": 5,
   "id": "31dc359f-e98e-4eca-a8df-9b1b2a806219",
   "metadata": {},
   "outputs": [
    {
     "data": {
      "text/html": [
       "<div>\n",
       "<style scoped>\n",
       "    .dataframe tbody tr th:only-of-type {\n",
       "        vertical-align: middle;\n",
       "    }\n",
       "\n",
       "    .dataframe tbody tr th {\n",
       "        vertical-align: top;\n",
       "    }\n",
       "\n",
       "    .dataframe thead th {\n",
       "        text-align: right;\n",
       "    }\n",
       "</style>\n",
       "<table border=\"1\" class=\"dataframe\">\n",
       "  <thead>\n",
       "    <tr style=\"text-align: right;\">\n",
       "      <th></th>\n",
       "      <th>artist</th>\n",
       "      <th>song</th>\n",
       "      <th>link</th>\n",
       "      <th>text</th>\n",
       "    </tr>\n",
       "  </thead>\n",
       "  <tbody>\n",
       "    <tr>\n",
       "      <th>0</th>\n",
       "      <td>ABBA</td>\n",
       "      <td>Ahe's My Kind Of Girl</td>\n",
       "      <td>/a/abba/ahes+my+kind+of+girl_20598417.html</td>\n",
       "      <td>Look at her face, it's a wonderful face  \\r\\nA...</td>\n",
       "    </tr>\n",
       "    <tr>\n",
       "      <th>1</th>\n",
       "      <td>ABBA</td>\n",
       "      <td>Andante, Andante</td>\n",
       "      <td>/a/abba/andante+andante_20002708.html</td>\n",
       "      <td>Take it easy with me, please  \\r\\nTouch me gen...</td>\n",
       "    </tr>\n",
       "    <tr>\n",
       "      <th>2</th>\n",
       "      <td>ABBA</td>\n",
       "      <td>As Good As New</td>\n",
       "      <td>/a/abba/as+good+as+new_20003033.html</td>\n",
       "      <td>I'll never know why I had to go  \\r\\nWhy I had...</td>\n",
       "    </tr>\n",
       "    <tr>\n",
       "      <th>3</th>\n",
       "      <td>ABBA</td>\n",
       "      <td>Bang</td>\n",
       "      <td>/a/abba/bang_20598415.html</td>\n",
       "      <td>Making somebody happy is a question of give an...</td>\n",
       "    </tr>\n",
       "    <tr>\n",
       "      <th>4</th>\n",
       "      <td>ABBA</td>\n",
       "      <td>Bang-A-Boomerang</td>\n",
       "      <td>/a/abba/bang+a+boomerang_20002668.html</td>\n",
       "      <td>Making somebody happy is a question of give an...</td>\n",
       "    </tr>\n",
       "  </tbody>\n",
       "</table>\n",
       "</div>"
      ],
      "text/plain": [
       "  artist                   song                                        link  \\\n",
       "0   ABBA  Ahe's My Kind Of Girl  /a/abba/ahes+my+kind+of+girl_20598417.html   \n",
       "1   ABBA       Andante, Andante       /a/abba/andante+andante_20002708.html   \n",
       "2   ABBA         As Good As New        /a/abba/as+good+as+new_20003033.html   \n",
       "3   ABBA                   Bang                  /a/abba/bang_20598415.html   \n",
       "4   ABBA       Bang-A-Boomerang      /a/abba/bang+a+boomerang_20002668.html   \n",
       "\n",
       "                                                text  \n",
       "0  Look at her face, it's a wonderful face  \\r\\nA...  \n",
       "1  Take it easy with me, please  \\r\\nTouch me gen...  \n",
       "2  I'll never know why I had to go  \\r\\nWhy I had...  \n",
       "3  Making somebody happy is a question of give an...  \n",
       "4  Making somebody happy is a question of give an...  "
      ]
     },
     "execution_count": 5,
     "metadata": {},
     "output_type": "execute_result"
    }
   ],
   "source": [
    "df.head(5)"
   ]
  },
  {
   "cell_type": "code",
   "execution_count": 6,
   "id": "dabe040e-5b01-4dbc-8bfa-394aac86d863",
   "metadata": {},
   "outputs": [
    {
     "data": {
      "text/html": [
       "<div>\n",
       "<style scoped>\n",
       "    .dataframe tbody tr th:only-of-type {\n",
       "        vertical-align: middle;\n",
       "    }\n",
       "\n",
       "    .dataframe tbody tr th {\n",
       "        vertical-align: top;\n",
       "    }\n",
       "\n",
       "    .dataframe thead th {\n",
       "        text-align: right;\n",
       "    }\n",
       "</style>\n",
       "<table border=\"1\" class=\"dataframe\">\n",
       "  <thead>\n",
       "    <tr style=\"text-align: right;\">\n",
       "      <th></th>\n",
       "      <th>artist</th>\n",
       "      <th>song</th>\n",
       "      <th>link</th>\n",
       "      <th>text</th>\n",
       "    </tr>\n",
       "  </thead>\n",
       "  <tbody>\n",
       "    <tr>\n",
       "      <th>57645</th>\n",
       "      <td>Ziggy Marley</td>\n",
       "      <td>Good Old Days</td>\n",
       "      <td>/z/ziggy+marley/good+old+days_10198588.html</td>\n",
       "      <td>Irie days come on play  \\r\\nLet the angels fly...</td>\n",
       "    </tr>\n",
       "    <tr>\n",
       "      <th>57646</th>\n",
       "      <td>Ziggy Marley</td>\n",
       "      <td>Hand To Mouth</td>\n",
       "      <td>/z/ziggy+marley/hand+to+mouth_20531167.html</td>\n",
       "      <td>Power to the workers  \\r\\nMore power  \\r\\nPowe...</td>\n",
       "    </tr>\n",
       "    <tr>\n",
       "      <th>57647</th>\n",
       "      <td>Zwan</td>\n",
       "      <td>Come With Me</td>\n",
       "      <td>/z/zwan/come+with+me_20148981.html</td>\n",
       "      <td>all you need  \\r\\nis something i'll believe  \\...</td>\n",
       "    </tr>\n",
       "    <tr>\n",
       "      <th>57648</th>\n",
       "      <td>Zwan</td>\n",
       "      <td>Desire</td>\n",
       "      <td>/z/zwan/desire_20148986.html</td>\n",
       "      <td>northern star  \\r\\nam i frightened  \\r\\nwhere ...</td>\n",
       "    </tr>\n",
       "    <tr>\n",
       "      <th>57649</th>\n",
       "      <td>Zwan</td>\n",
       "      <td>Heartsong</td>\n",
       "      <td>/z/zwan/heartsong_20148991.html</td>\n",
       "      <td>come in  \\r\\nmake yourself at home  \\r\\ni'm a ...</td>\n",
       "    </tr>\n",
       "  </tbody>\n",
       "</table>\n",
       "</div>"
      ],
      "text/plain": [
       "             artist           song  \\\n",
       "57645  Ziggy Marley  Good Old Days   \n",
       "57646  Ziggy Marley  Hand To Mouth   \n",
       "57647          Zwan   Come With Me   \n",
       "57648          Zwan         Desire   \n",
       "57649          Zwan      Heartsong   \n",
       "\n",
       "                                              link  \\\n",
       "57645  /z/ziggy+marley/good+old+days_10198588.html   \n",
       "57646  /z/ziggy+marley/hand+to+mouth_20531167.html   \n",
       "57647           /z/zwan/come+with+me_20148981.html   \n",
       "57648                 /z/zwan/desire_20148986.html   \n",
       "57649              /z/zwan/heartsong_20148991.html   \n",
       "\n",
       "                                                    text  \n",
       "57645  Irie days come on play  \\r\\nLet the angels fly...  \n",
       "57646  Power to the workers  \\r\\nMore power  \\r\\nPowe...  \n",
       "57647  all you need  \\r\\nis something i'll believe  \\...  \n",
       "57648  northern star  \\r\\nam i frightened  \\r\\nwhere ...  \n",
       "57649  come in  \\r\\nmake yourself at home  \\r\\ni'm a ...  "
      ]
     },
     "execution_count": 6,
     "metadata": {},
     "output_type": "execute_result"
    }
   ],
   "source": [
    "df.tail(5)"
   ]
  },
  {
   "cell_type": "code",
   "execution_count": 7,
   "id": "69309035-de31-4d69-a4d3-acd3c6bc6463",
   "metadata": {},
   "outputs": [
    {
     "data": {
      "text/plain": [
       "(57650, 4)"
      ]
     },
     "execution_count": 7,
     "metadata": {},
     "output_type": "execute_result"
    }
   ],
   "source": [
    "df.shape"
   ]
  },
  {
   "cell_type": "code",
   "execution_count": 8,
   "id": "ad478fc4-599b-4017-9565-62ed965d467e",
   "metadata": {},
   "outputs": [
    {
     "data": {
      "text/plain": [
       "artist    0\n",
       "song      0\n",
       "link      0\n",
       "text      0\n",
       "dtype: int64"
      ]
     },
     "execution_count": 8,
     "metadata": {},
     "output_type": "execute_result"
    }
   ],
   "source": [
    "df.isnull().sum()"
   ]
  },
  {
   "cell_type": "code",
   "execution_count": 9,
   "id": "40bbc380-930f-4170-9cc2-11687bbb653e",
   "metadata": {},
   "outputs": [],
   "source": [
    "df =df.sample(5000).drop('link', axis=1).reset_index(drop=True)"
   ]
  },
  {
   "cell_type": "code",
   "execution_count": 10,
   "id": "125f5595-abb0-46c1-9bfa-6377d8f44bdf",
   "metadata": {},
   "outputs": [
    {
     "data": {
      "text/html": [
       "<div>\n",
       "<style scoped>\n",
       "    .dataframe tbody tr th:only-of-type {\n",
       "        vertical-align: middle;\n",
       "    }\n",
       "\n",
       "    .dataframe tbody tr th {\n",
       "        vertical-align: top;\n",
       "    }\n",
       "\n",
       "    .dataframe thead th {\n",
       "        text-align: right;\n",
       "    }\n",
       "</style>\n",
       "<table border=\"1\" class=\"dataframe\">\n",
       "  <thead>\n",
       "    <tr style=\"text-align: right;\">\n",
       "      <th></th>\n",
       "      <th>artist</th>\n",
       "      <th>song</th>\n",
       "      <th>text</th>\n",
       "    </tr>\n",
       "  </thead>\n",
       "  <tbody>\n",
       "    <tr>\n",
       "      <th>0</th>\n",
       "      <td>Cheap Trick</td>\n",
       "      <td>Through The Night</td>\n",
       "      <td>You don't have to hide  \\r\\nAll the things you...</td>\n",
       "    </tr>\n",
       "    <tr>\n",
       "      <th>1</th>\n",
       "      <td>Tina Turner</td>\n",
       "      <td>Rock'n' Roll Widow</td>\n",
       "      <td>I'm sitting at home and the phone doesn't even...</td>\n",
       "    </tr>\n",
       "    <tr>\n",
       "      <th>2</th>\n",
       "      <td>Ramones</td>\n",
       "      <td>Tomorrow She Goes Away</td>\n",
       "      <td>Infatuation, she's a fatal attraction  \\r\\nHan...</td>\n",
       "    </tr>\n",
       "    <tr>\n",
       "      <th>3</th>\n",
       "      <td>Amy Grant</td>\n",
       "      <td>Beautiful Music</td>\n",
       "      <td>Once my life had no direction, I was lost as c...</td>\n",
       "    </tr>\n",
       "    <tr>\n",
       "      <th>4</th>\n",
       "      <td>New Order</td>\n",
       "      <td>Doubts Even Here</td>\n",
       "      <td>Those steps which seem to take a lifetime  \\r\\...</td>\n",
       "    </tr>\n",
       "    <tr>\n",
       "      <th>5</th>\n",
       "      <td>Air Supply</td>\n",
       "      <td>Secret Agent</td>\n",
       "      <td>Well I've got friends in the states  \\r\\nAnd I...</td>\n",
       "    </tr>\n",
       "    <tr>\n",
       "      <th>6</th>\n",
       "      <td>Paul McCartney</td>\n",
       "      <td>Kansas City</td>\n",
       "      <td>I'M GOIN' TO KANSAS CITY, KANSAS CITY, HERE I ...</td>\n",
       "    </tr>\n",
       "    <tr>\n",
       "      <th>7</th>\n",
       "      <td>Freestyle</td>\n",
       "      <td>Hidden Freestlyes</td>\n",
       "      <td>I tell you to sit down put you in tears she wa...</td>\n",
       "    </tr>\n",
       "    <tr>\n",
       "      <th>8</th>\n",
       "      <td>Lou Reed</td>\n",
       "      <td>Families</td>\n",
       "      <td>(how's the family)  \\r\\n(how's the family)  \\r...</td>\n",
       "    </tr>\n",
       "    <tr>\n",
       "      <th>9</th>\n",
       "      <td>Kenny Chesney</td>\n",
       "      <td>Got A Little Crazy</td>\n",
       "      <td>Steel drums still ringing in my head  \\r\\nWell...</td>\n",
       "    </tr>\n",
       "  </tbody>\n",
       "</table>\n",
       "</div>"
      ],
      "text/plain": [
       "           artist                    song  \\\n",
       "0     Cheap Trick       Through The Night   \n",
       "1     Tina Turner      Rock'n' Roll Widow   \n",
       "2         Ramones  Tomorrow She Goes Away   \n",
       "3       Amy Grant         Beautiful Music   \n",
       "4       New Order        Doubts Even Here   \n",
       "5      Air Supply            Secret Agent   \n",
       "6  Paul McCartney             Kansas City   \n",
       "7       Freestyle       Hidden Freestlyes   \n",
       "8        Lou Reed                Families   \n",
       "9   Kenny Chesney      Got A Little Crazy   \n",
       "\n",
       "                                                text  \n",
       "0  You don't have to hide  \\r\\nAll the things you...  \n",
       "1  I'm sitting at home and the phone doesn't even...  \n",
       "2  Infatuation, she's a fatal attraction  \\r\\nHan...  \n",
       "3  Once my life had no direction, I was lost as c...  \n",
       "4  Those steps which seem to take a lifetime  \\r\\...  \n",
       "5  Well I've got friends in the states  \\r\\nAnd I...  \n",
       "6  I'M GOIN' TO KANSAS CITY, KANSAS CITY, HERE I ...  \n",
       "7  I tell you to sit down put you in tears she wa...  \n",
       "8  (how's the family)  \\r\\n(how's the family)  \\r...  \n",
       "9  Steel drums still ringing in my head  \\r\\nWell...  "
      ]
     },
     "execution_count": 10,
     "metadata": {},
     "output_type": "execute_result"
    }
   ],
   "source": [
    "df.head(10)"
   ]
  },
  {
   "cell_type": "code",
   "execution_count": 11,
   "id": "e028eee1-d252-4e73-899d-d74b29d35625",
   "metadata": {},
   "outputs": [
    {
     "data": {
      "text/plain": [
       "\"You don't have to hide  \\r\\nAll the things you say or feel inside  \\r\\nI can always tell that love is alive  \\r\\nWhen I look in your eyes  \\r\\nWith just one kiss you see the ways of love  \\r\\n  \\r\\nThrough the night, through the night, through the night  \\r\\nI'll help you make it feel alright  \\r\\nThrough the night, through the night  \\r\\nLet me help you make it through the night  \\r\\n  \\r\\nTime is on our side  \\r\\nNever had to wait for reasons why  \\r\\nTwo can play this game better than one  \\r\\nAlone in the night  \\r\\nOh, and you could see a world of love  \\r\\n  \\r\\nThrough the night, through the night, through the night  \\r\\nI'll help you make it feel alright  \\r\\nThrough the night, through the night  \\r\\nLet me help you make it through the night  \\r\\n  \\r\\nDon't blow it away  \\r\\n'Coz you can't deny the love inside  \\r\\nOh baby, don't be afraid  \\r\\n  \\r\\nBeen said a million times before  \\r\\nGonna say it once again  \\r\\nYou will see a world of love through the night  \\r\\n  \\r\\nThrough the night, through the night  \\r\\nLet me help you make it through the night  \\r\\n  \\r\\nThrough the night, through the night, through the night  \\r\\nI'll help you make it feel alright  \\r\\nThrough the night, through the night  \\r\\nLet me help you make it through the night  \\r\\n  \\r\\nThrough the night, through the night, through the night  \\r\\nI'll help you make it through the night  \\r\\nThrough the night, through the night  \\r\\nLet me help you make it through the night\\r\\n\\r\\n\""
      ]
     },
     "execution_count": 11,
     "metadata": {},
     "output_type": "execute_result"
    }
   ],
   "source": [
    "df['text'][0]"
   ]
  },
  {
   "cell_type": "code",
   "execution_count": 12,
   "id": "12e8245b-e132-4c73-84c9-77f641f5696a",
   "metadata": {},
   "outputs": [],
   "source": [
    "df = df.sample(5000)"
   ]
  },
  {
   "cell_type": "code",
   "execution_count": 13,
   "id": "8d237410-9784-4655-85e8-24a2a37cb4a8",
   "metadata": {},
   "outputs": [
    {
     "data": {
      "text/plain": [
       "(5000, 3)"
      ]
     },
     "execution_count": 13,
     "metadata": {},
     "output_type": "execute_result"
    }
   ],
   "source": [
    "df.shape"
   ]
  },
  {
   "cell_type": "markdown",
   "id": "43297c51-4f31-4bf2-90af-67190bf4da2a",
   "metadata": {},
   "source": [
    "Text Cleaning/ Text Preprocessing"
   ]
  },
  {
   "cell_type": "code",
   "execution_count": 14,
   "id": "a643ab89-26c0-49c5-a05b-c9e11a95c125",
   "metadata": {},
   "outputs": [],
   "source": [
    "df['text'] = df['text'].str.lower().replace(r'^\\w\\s', ' ').replace(r'\\n', ' ', regex=True)"
   ]
  },
  {
   "cell_type": "code",
   "execution_count": 15,
   "id": "b9a5e1ab-d96b-4b88-997d-036577861ff4",
   "metadata": {},
   "outputs": [
    {
     "data": {
      "text/html": [
       "<div>\n",
       "<style scoped>\n",
       "    .dataframe tbody tr th:only-of-type {\n",
       "        vertical-align: middle;\n",
       "    }\n",
       "\n",
       "    .dataframe tbody tr th {\n",
       "        vertical-align: top;\n",
       "    }\n",
       "\n",
       "    .dataframe thead th {\n",
       "        text-align: right;\n",
       "    }\n",
       "</style>\n",
       "<table border=\"1\" class=\"dataframe\">\n",
       "  <thead>\n",
       "    <tr style=\"text-align: right;\">\n",
       "      <th></th>\n",
       "      <th>artist</th>\n",
       "      <th>song</th>\n",
       "      <th>text</th>\n",
       "    </tr>\n",
       "  </thead>\n",
       "  <tbody>\n",
       "    <tr>\n",
       "      <th>1939</th>\n",
       "      <td>Opeth</td>\n",
       "      <td>Serenity Painted Death</td>\n",
       "      <td>returned from a hibernal dream  \\r voices fell...</td>\n",
       "    </tr>\n",
       "    <tr>\n",
       "      <th>4677</th>\n",
       "      <td>Randy Travis</td>\n",
       "      <td>America Will Always Stand</td>\n",
       "      <td>america will always stand  \\r randy travis  \\r...</td>\n",
       "    </tr>\n",
       "    <tr>\n",
       "      <th>1512</th>\n",
       "      <td>Cole Porter</td>\n",
       "      <td>Where Is The Life That Late I Led?</td>\n",
       "      <td>since i reached the charming age of puberty  \\...</td>\n",
       "    </tr>\n",
       "    <tr>\n",
       "      <th>4566</th>\n",
       "      <td>Kelly Family</td>\n",
       "      <td>Because It's Love</td>\n",
       "      <td>every time i look at your face  \\r i get this ...</td>\n",
       "    </tr>\n",
       "    <tr>\n",
       "      <th>4526</th>\n",
       "      <td>Talking Heads</td>\n",
       "      <td>Totally Nude</td>\n",
       "      <td>big and i'm bad  \\r and i want you to know  \\r...</td>\n",
       "    </tr>\n",
       "    <tr>\n",
       "      <th>2341</th>\n",
       "      <td>Linkin Park</td>\n",
       "      <td>Piercing The Skin</td>\n",
       "      <td>i look around...  \\r i look around...  \\r i lo...</td>\n",
       "    </tr>\n",
       "    <tr>\n",
       "      <th>3222</th>\n",
       "      <td>Zebrahead</td>\n",
       "      <td>With Friends Like These, Who Needs Herpes?</td>\n",
       "      <td>i'm breaking this wall down  \\r everybody's lo...</td>\n",
       "    </tr>\n",
       "  </tbody>\n",
       "</table>\n",
       "</div>"
      ],
      "text/plain": [
       "             artist                                        song  \\\n",
       "1939          Opeth                      Serenity Painted Death   \n",
       "4677   Randy Travis                   America Will Always Stand   \n",
       "1512    Cole Porter          Where Is The Life That Late I Led?   \n",
       "4566   Kelly Family                           Because It's Love   \n",
       "4526  Talking Heads                                Totally Nude   \n",
       "2341    Linkin Park                           Piercing The Skin   \n",
       "3222      Zebrahead  With Friends Like These, Who Needs Herpes?   \n",
       "\n",
       "                                                   text  \n",
       "1939  returned from a hibernal dream  \\r voices fell...  \n",
       "4677  america will always stand  \\r randy travis  \\r...  \n",
       "1512  since i reached the charming age of puberty  \\...  \n",
       "4566  every time i look at your face  \\r i get this ...  \n",
       "4526  big and i'm bad  \\r and i want you to know  \\r...  \n",
       "2341  i look around...  \\r i look around...  \\r i lo...  \n",
       "3222  i'm breaking this wall down  \\r everybody's lo...  "
      ]
     },
     "execution_count": 15,
     "metadata": {},
     "output_type": "execute_result"
    }
   ],
   "source": [
    "df.head(7)"
   ]
  },
  {
   "cell_type": "code",
   "execution_count": 16,
   "id": "cbf07079-ef8e-4ee6-b4b2-d8f1fb4c7ec9",
   "metadata": {},
   "outputs": [
    {
     "name": "stdout",
     "output_type": "stream",
     "text": [
      "Requirement already satisfied: nltk in c:\\users\\kagiso\\appdata\\local\\programs\\python\\python312\\lib\\site-packages (3.8.1)\n",
      "Requirement already satisfied: click in c:\\users\\kagiso\\appdata\\local\\programs\\python\\python312\\lib\\site-packages (from nltk) (8.1.7)\n",
      "Requirement already satisfied: joblib in c:\\users\\kagiso\\appdata\\local\\programs\\python\\python312\\lib\\site-packages (from nltk) (1.4.2)\n",
      "Requirement already satisfied: regex>=2021.8.3 in c:\\users\\kagiso\\appdata\\local\\programs\\python\\python312\\lib\\site-packages (from nltk) (2024.5.15)\n",
      "Requirement already satisfied: tqdm in c:\\users\\kagiso\\appdata\\local\\programs\\python\\python312\\lib\\site-packages (from nltk) (4.66.4)\n",
      "Requirement already satisfied: colorama in c:\\users\\kagiso\\appdata\\local\\programs\\python\\python312\\lib\\site-packages (from click->nltk) (0.4.6)\n"
     ]
    },
    {
     "name": "stderr",
     "output_type": "stream",
     "text": [
      "\n",
      "[notice] A new release of pip is available: 24.0 -> 24.1.1\n",
      "[notice] To update, run: python.exe -m pip install --upgrade pip\n"
     ]
    }
   ],
   "source": [
    "!pip install nltk"
   ]
  },
  {
   "cell_type": "code",
   "execution_count": 17,
   "id": "3733dea1-0e24-4e18-9e16-8b73fb8f893a",
   "metadata": {},
   "outputs": [
    {
     "name": "stderr",
     "output_type": "stream",
     "text": [
      "[nltk_data] Downloading package punkt to\n",
      "[nltk_data]     C:\\Users\\Kagiso\\AppData\\Roaming\\nltk_data...\n",
      "[nltk_data]   Package punkt is already up-to-date!\n"
     ]
    }
   ],
   "source": [
    "import nltk\n",
    "nltk.download('punkt')\n",
    "from nltk.stem.porter import PorterStemmer"
   ]
  },
  {
   "cell_type": "code",
   "execution_count": 18,
   "id": "f07c30f1-e1f0-4dfb-965b-cb339129c452",
   "metadata": {},
   "outputs": [],
   "source": [
    "stemmer = PorterStemmer()"
   ]
  },
  {
   "cell_type": "code",
   "execution_count": 19,
   "id": "8f0138af-2535-452d-a530-a094721b276c",
   "metadata": {},
   "outputs": [],
   "source": [
    "def token(txt):\n",
    "    tokens = nltk.word_tokenize(txt)\n",
    "    # Apply stemming to each token\n",
    "    stemmed_tokens = [stemmer.stem(w) for w in tokens]\n",
    "    return \" \".join(stemmed_tokens)"
   ]
  },
  {
   "cell_type": "code",
   "execution_count": 20,
   "id": "99714749-7182-4fd9-b733-4097f014e1c5",
   "metadata": {},
   "outputs": [
    {
     "data": {
      "text/plain": [
       "'you are beauti , beauti'"
      ]
     },
     "execution_count": 20,
     "metadata": {},
     "output_type": "execute_result"
    }
   ],
   "source": [
    "token(\"you are beautiful, beauty\")"
   ]
  },
  {
   "cell_type": "code",
   "execution_count": 21,
   "id": "18532584-f320-4f87-8f7e-993806b7bf28",
   "metadata": {},
   "outputs": [],
   "source": [
    "# Apply the tokenization function to the 'text' column\n",
    "df['text'] = df['text'].apply(lambda x: token(x))"
   ]
  },
  {
   "cell_type": "code",
   "execution_count": 22,
   "id": "b843f19a-e1b6-41c4-aaa7-3eb70994c1f9",
   "metadata": {},
   "outputs": [
    {
     "name": "stdout",
     "output_type": "stream",
     "text": [
      "Requirement already satisfied: scikit-learn in c:\\users\\kagiso\\appdata\\local\\programs\\python\\python312\\lib\\site-packages (1.5.0)\n",
      "Requirement already satisfied: numpy>=1.19.5 in c:\\users\\kagiso\\appdata\\local\\programs\\python\\python312\\lib\\site-packages (from scikit-learn) (2.0.0)\n",
      "Requirement already satisfied: scipy>=1.6.0 in c:\\users\\kagiso\\appdata\\local\\programs\\python\\python312\\lib\\site-packages (from scikit-learn) (1.14.0)\n",
      "Requirement already satisfied: joblib>=1.2.0 in c:\\users\\kagiso\\appdata\\local\\programs\\python\\python312\\lib\\site-packages (from scikit-learn) (1.4.2)\n",
      "Requirement already satisfied: threadpoolctl>=3.1.0 in c:\\users\\kagiso\\appdata\\local\\programs\\python\\python312\\lib\\site-packages (from scikit-learn) (3.5.0)\n"
     ]
    },
    {
     "name": "stderr",
     "output_type": "stream",
     "text": [
      "\n",
      "[notice] A new release of pip is available: 24.0 -> 24.1.1\n",
      "[notice] To update, run: python.exe -m pip install --upgrade pip\n"
     ]
    }
   ],
   "source": [
    "!pip install scikit-learn"
   ]
  },
  {
   "cell_type": "code",
   "execution_count": 23,
   "id": "042d4aee-f3e6-49fa-84d0-898c2fc96c38",
   "metadata": {},
   "outputs": [],
   "source": [
    "from sklearn.feature_extraction.text import TfidfVectorizer\n",
    "from sklearn.metrics.pairwise import cosine_similarity"
   ]
  },
  {
   "cell_type": "code",
   "execution_count": 24,
   "id": "10113597-4089-4a10-8f6f-8c872dad1e52",
   "metadata": {},
   "outputs": [],
   "source": [
    "tfidvector = TfidfVectorizer(analyzer='word',stop_words='english')\n",
    "matrix = tfidvector.fit_transform(df['text'])\n",
    "similarity = cosine_similarity(matrix)"
   ]
  },
  {
   "cell_type": "code",
   "execution_count": 25,
   "id": "e9472ffc-bca6-4d52-9622-bc8b9ece9d2f",
   "metadata": {},
   "outputs": [
    {
     "data": {
      "text/plain": [
       "array([1.00000000e+00, 4.43503052e-03, 1.27703208e-02, ...,\n",
       "       8.19928742e-03, 3.30737244e-03, 3.25219471e-04])"
      ]
     },
     "execution_count": 25,
     "metadata": {},
     "output_type": "execute_result"
    }
   ],
   "source": [
    "similarity[0]"
   ]
  },
  {
   "cell_type": "code",
   "execution_count": 27,
   "id": "69d03d6c-e8e9-41ff-bc48-c589d5685417",
   "metadata": {},
   "outputs": [
    {
     "data": {
      "text/plain": [
       "np.int64(4526)"
      ]
     },
     "execution_count": 27,
     "metadata": {},
     "output_type": "execute_result"
    }
   ],
   "source": [
    "df[df['song'] == 'Totally Nude'].index[0]"
   ]
  },
  {
   "cell_type": "markdown",
   "id": "bc2e758c-995e-4737-bd62-f4744861c8a5",
   "metadata": {},
   "source": [
    "Recommender Function"
   ]
  },
  {
   "cell_type": "code",
   "execution_count": 28,
   "id": "61d0ae36-20de-461c-b824-cccdbd3b5778",
   "metadata": {},
   "outputs": [],
   "source": [
    "def recommendation(song_name):\n",
    "    # Check if any rows match the condition\n",
    "    if df[df['song'] == song_name].empty:\n",
    "        print(f\"No recommendations found for '{song_name}'.\")\n",
    "        return\n",
    "        \n",
    "    # Get the index of the first matching row\n",
    "    idx = df[df['song'] == song_name].index[0]\n",
    "    distance = sorted(list(enumerate(similarity[idx])), reverse=True, key = lambda x: x[1])\n",
    "        \n",
    "    song = []\n",
    "    for s_id in distance[1:21]:\n",
    "        song.append(df.iloc[s_id[0]].song)\n",
    "            \n",
    "    return song"
   ]
  },
  {
   "cell_type": "code",
   "execution_count": 30,
   "id": "eb3784fd-34e3-4ed4-82cf-f5ad635d73f6",
   "metadata": {},
   "outputs": [
    {
     "data": {
      "text/plain": [
       "['Follow Me',\n",
       " 'D.C.',\n",
       " 'Lead Balloon',\n",
       " \"I'll Be There\",\n",
       " 'Little Chief',\n",
       " 'If I Told You',\n",
       " 'Lead Me To The Cross',\n",
       " 'All Day',\n",
       " 'A Hard Act To Follow',\n",
       " 'Every Road Leads Home To You',\n",
       " 'Dedicated Follower Of Fashion',\n",
       " 'Double Life',\n",
       " 'Doncha Bother Me',\n",
       " 'Bruiser',\n",
       " 'Fleas',\n",
       " 'Dark Fantasy',\n",
       " 'Next Time I Fall',\n",
       " 'Til The End Of Forever',\n",
       " 'A Love For You',\n",
       " 'Swallow']"
      ]
     },
     "execution_count": 30,
     "metadata": {},
     "output_type": "execute_result"
    }
   ],
   "source": [
    "recommendation(\"Because It's Love\")"
   ]
  },
  {
   "cell_type": "code",
   "execution_count": 31,
   "id": "a2875e16-0fab-4ca6-86d5-84ecd98d9f8f",
   "metadata": {},
   "outputs": [],
   "source": [
    "import pickle"
   ]
  },
  {
   "cell_type": "code",
   "execution_count": 32,
   "id": "0c491c05-776b-44b5-9bdc-d2452fae645d",
   "metadata": {},
   "outputs": [],
   "source": [
    "# Save the similarity matrix\n",
    "pickle.dump(similarity, open('similarity.pkl','wb'))"
   ]
  },
  {
   "cell_type": "code",
   "execution_count": 33,
   "id": "599984ab-6d6a-45f7-a82c-b7d6b5f2e3c1",
   "metadata": {},
   "outputs": [],
   "source": [
    "# Save the DataFrame\n",
    "pickle.dump(df, open('df.pkl','wb'))"
   ]
  },
  {
   "cell_type": "code",
   "execution_count": null,
   "id": "d306da59-84ab-45d8-b1be-baa7c4f2a6cf",
   "metadata": {},
   "outputs": [],
   "source": []
  }
 ],
 "metadata": {
  "kernelspec": {
   "display_name": "Python 3 (ipykernel)",
   "language": "python",
   "name": "python3"
  },
  "language_info": {
   "codemirror_mode": {
    "name": "ipython",
    "version": 3
   },
   "file_extension": ".py",
   "mimetype": "text/x-python",
   "name": "python",
   "nbconvert_exporter": "python",
   "pygments_lexer": "ipython3",
   "version": "3.12.4"
  }
 },
 "nbformat": 4,
 "nbformat_minor": 5
}
